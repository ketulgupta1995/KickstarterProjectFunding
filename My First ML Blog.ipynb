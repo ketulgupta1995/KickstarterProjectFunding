{
 "cells": [
  {
   "cell_type": "markdown",
   "metadata": {
    "slideshow": {
     "slide_type": "slide"
    }
   },
   "source": [
    "Hello everyone,Recently I participated in a machine learning competition on Hackerearth. https://www.hackerearth.com/challenge/hiring/data-science-hiring-challenge/ .\n",
    "Data can be found here https://he-s3.s3.amazonaws.com/media/hackathon/data-science-hiring-challenge/funding-successful-projects-c40d55cb-92e5b384/a339bbf8fa8511e7.zip\n",
    "In this challenge, you have to predict if a project will get successfully funded or not.\n",
    "\n",
    "I am sharing this so that it helps others in starting with machine learning."
   ]
  },
  {
   "cell_type": "markdown",
   "metadata": {},
   "source": [
    "Some basic imports"
   ]
  },
  {
   "cell_type": "code",
   "execution_count": 1,
   "metadata": {
    "collapsed": true
   },
   "outputs": [],
   "source": [
    "import pandas as pd\n",
    "import numpy as np\n",
    "%matplotlib inline"
   ]
  },
  {
   "cell_type": "markdown",
   "metadata": {},
   "source": [
    "Columns and their descripition:<br>\n",
    "\n",
    "Variable\t            Description<br>\n",
    "\n",
    "project_id\t           - unique id of project<br>\n",
    "name\t               - name of the project<br>\n",
    "desc\t               - description of project<br>\n",
    "goal\t               - the goal (amount) required for the project<br>\n",
    "keywords\t           - keywords which describe project<br>\n",
    "disable communication  - whether the project authors has disabled communication option with people donating to the                          project<br>\n",
    "country\t               - country of project author<br>\n",
    "currency\t           - currency in which goal (amount) is required<br>\n",
    "deadline\t           - till this date the goal must be achieved (in unix timeformat)<br>\n",
    "state_changed_at\t   - at this time the project status changed. Status could be successful, failed, suspended,                            cancelled etc. (in unix timeformat)<br>\n",
    "created_at\t           - at this time the project was posted on the website(in unix timeformat)<br>\n",
    "launched_at\t           - at this time the project went live on the website(in unix timeformat)<br>\n",
    "backers_count\t       - no. of people who backed the project<br>\n",
    "final_status\t       - whether the project got successfully funded (target variable – 1,0)<br>"
   ]
  },
  {
   "cell_type": "code",
   "execution_count": 2,
   "metadata": {},
   "outputs": [
    {
     "name": "stdout",
     "output_type": "stream",
     "text": [
      "(108129, 13)\n",
      "(63465, 11)\n"
     ]
    }
   ],
   "source": [
    "#read the train data to  a pandas Dataframe\n",
    "train=pd.read_csv(\"./input/train.csv\",index_col='project_id')\n",
    "print (train.shape)\n",
    "#read the test data to  a pandas Dataframe\n",
    "actual_test=pd.read_csv('./input/test.csv',index_col='project_id')\n",
    "print (actual_test.shape)"
   ]
  },
  {
   "cell_type": "markdown",
   "metadata": {},
   "source": [
    "as we can see test has 2 columns missing.\n",
    "1st would be prediction variable but there is another missing colummn."
   ]
  },
  {
   "cell_type": "code",
   "execution_count": 3,
   "metadata": {},
   "outputs": [
    {
     "name": "stdout",
     "output_type": "stream",
     "text": [
      "Train columns\n",
      "Index(['name', 'desc', 'goal', 'keywords', 'disable_communication', 'country',\n",
      "       'currency', 'deadline', 'state_changed_at', 'created_at', 'launched_at',\n",
      "       'backers_count', 'final_status'],\n",
      "      dtype='object')\n",
      "Testset columns\n",
      "Index(['name', 'desc', 'goal', 'keywords', 'disable_communication', 'country',\n",
      "       'currency', 'deadline', 'state_changed_at', 'created_at',\n",
      "       'launched_at'],\n",
      "      dtype='object')\n"
     ]
    }
   ],
   "source": [
    "print (\"Train columns\")\n",
    "print (train.columns)\n",
    "print (\"Testset columns\")\n",
    "print (actual_test.columns)"
   ]
  },
  {
   "cell_type": "markdown",
   "metadata": {},
   "source": [
    "As \"Backers_count\" is missing, I decided not to consider it while training."
   ]
  },
  {
   "cell_type": "code",
   "execution_count": 4,
   "metadata": {},
   "outputs": [
    {
     "data": {
      "text/html": [
       "<div>\n",
       "<style>\n",
       "    .dataframe thead tr:only-child th {\n",
       "        text-align: right;\n",
       "    }\n",
       "\n",
       "    .dataframe thead th {\n",
       "        text-align: left;\n",
       "    }\n",
       "\n",
       "    .dataframe tbody tr th {\n",
       "        vertical-align: top;\n",
       "    }\n",
       "</style>\n",
       "<table border=\"1\" class=\"dataframe\">\n",
       "  <thead>\n",
       "    <tr style=\"text-align: right;\">\n",
       "      <th></th>\n",
       "      <th>name</th>\n",
       "      <th>desc</th>\n",
       "      <th>goal</th>\n",
       "      <th>keywords</th>\n",
       "      <th>disable_communication</th>\n",
       "      <th>country</th>\n",
       "      <th>currency</th>\n",
       "      <th>deadline</th>\n",
       "      <th>state_changed_at</th>\n",
       "      <th>created_at</th>\n",
       "      <th>launched_at</th>\n",
       "      <th>final_status</th>\n",
       "    </tr>\n",
       "    <tr>\n",
       "      <th>project_id</th>\n",
       "      <th></th>\n",
       "      <th></th>\n",
       "      <th></th>\n",
       "      <th></th>\n",
       "      <th></th>\n",
       "      <th></th>\n",
       "      <th></th>\n",
       "      <th></th>\n",
       "      <th></th>\n",
       "      <th></th>\n",
       "      <th></th>\n",
       "      <th></th>\n",
       "    </tr>\n",
       "  </thead>\n",
       "  <tbody>\n",
       "    <tr>\n",
       "      <th>kkst1451568084</th>\n",
       "      <td>drawing for dollars</td>\n",
       "      <td>I like drawing pictures. and then i color them...</td>\n",
       "      <td>20.0</td>\n",
       "      <td>drawing-for-dollars</td>\n",
       "      <td>False</td>\n",
       "      <td>US</td>\n",
       "      <td>USD</td>\n",
       "      <td>1241333999</td>\n",
       "      <td>1241334017</td>\n",
       "      <td>1240600507</td>\n",
       "      <td>1240602723</td>\n",
       "      <td>1</td>\n",
       "    </tr>\n",
       "    <tr>\n",
       "      <th>kkst1474482071</th>\n",
       "      <td>Sponsor Dereck Blackburn (Lostwars) Artist in ...</td>\n",
       "      <td>I, Dereck Blackburn will be taking upon an inc...</td>\n",
       "      <td>300.0</td>\n",
       "      <td>sponsor-dereck-blackburn-lostwars-artist-in-re...</td>\n",
       "      <td>False</td>\n",
       "      <td>US</td>\n",
       "      <td>USD</td>\n",
       "      <td>1242429000</td>\n",
       "      <td>1242432018</td>\n",
       "      <td>1240960224</td>\n",
       "      <td>1240975592</td>\n",
       "      <td>0</td>\n",
       "    </tr>\n",
       "    <tr>\n",
       "      <th>kkst183622197</th>\n",
       "      <td>Mr. Squiggles</td>\n",
       "      <td>So I saw darkpony's successfully funded drawin...</td>\n",
       "      <td>30.0</td>\n",
       "      <td>mr-squiggles</td>\n",
       "      <td>False</td>\n",
       "      <td>US</td>\n",
       "      <td>USD</td>\n",
       "      <td>1243027560</td>\n",
       "      <td>1243027818</td>\n",
       "      <td>1242163613</td>\n",
       "      <td>1242164398</td>\n",
       "      <td>0</td>\n",
       "    </tr>\n",
       "    <tr>\n",
       "      <th>kkst597742710</th>\n",
       "      <td>Help me write my second novel.</td>\n",
       "      <td>Do your part to help out starving artists and ...</td>\n",
       "      <td>500.0</td>\n",
       "      <td>help-me-write-my-second-novel</td>\n",
       "      <td>False</td>\n",
       "      <td>US</td>\n",
       "      <td>USD</td>\n",
       "      <td>1243555740</td>\n",
       "      <td>1243556121</td>\n",
       "      <td>1240963795</td>\n",
       "      <td>1240966730</td>\n",
       "      <td>1</td>\n",
       "    </tr>\n",
       "    <tr>\n",
       "      <th>kkst1913131122</th>\n",
       "      <td>Support casting my sculpture in bronze</td>\n",
       "      <td>I'm nearing completion on a sculpture, current...</td>\n",
       "      <td>2000.0</td>\n",
       "      <td>support-casting-my-sculpture-in-bronze</td>\n",
       "      <td>False</td>\n",
       "      <td>US</td>\n",
       "      <td>USD</td>\n",
       "      <td>1243769880</td>\n",
       "      <td>1243770317</td>\n",
       "      <td>1241177914</td>\n",
       "      <td>1241180541</td>\n",
       "      <td>0</td>\n",
       "    </tr>\n",
       "    <tr>\n",
       "      <th>kkst1085176748</th>\n",
       "      <td>daily digest</td>\n",
       "      <td>I'm a fledgling videoblogger living in Brookly...</td>\n",
       "      <td>700.0</td>\n",
       "      <td>daily-digest</td>\n",
       "      <td>False</td>\n",
       "      <td>US</td>\n",
       "      <td>USD</td>\n",
       "      <td>1243815600</td>\n",
       "      <td>1243816219</td>\n",
       "      <td>1241050799</td>\n",
       "      <td>1241464468</td>\n",
       "      <td>0</td>\n",
       "    </tr>\n",
       "    <tr>\n",
       "      <th>kkst1468954715</th>\n",
       "      <td>iGoozex - Free iPhone app</td>\n",
       "      <td>I am an independent iPhone developer that beli...</td>\n",
       "      <td>250.0</td>\n",
       "      <td>igoozex-free-iphone-app</td>\n",
       "      <td>False</td>\n",
       "      <td>US</td>\n",
       "      <td>USD</td>\n",
       "      <td>1243872000</td>\n",
       "      <td>1243872028</td>\n",
       "      <td>1241725172</td>\n",
       "      <td>1241736308</td>\n",
       "      <td>0</td>\n",
       "    </tr>\n",
       "    <tr>\n",
       "      <th>kkst194050612</th>\n",
       "      <td>Drive A Faster Car 2.0</td>\n",
       "      <td>Drive A Faster Car (http://www.driveafastercar...</td>\n",
       "      <td>1000.0</td>\n",
       "      <td>drive-a-faster-car-20</td>\n",
       "      <td>False</td>\n",
       "      <td>US</td>\n",
       "      <td>USD</td>\n",
       "      <td>1244088000</td>\n",
       "      <td>1244088022</td>\n",
       "      <td>1241460541</td>\n",
       "      <td>1241470291</td>\n",
       "      <td>1</td>\n",
       "    </tr>\n",
       "    <tr>\n",
       "      <th>kkst708883590</th>\n",
       "      <td>\"\"\"\"\"\"\"\"\"\"\"\"\"\"\"\"\"\"\"\"\"\"\"\"\"\"\"\"\"\"\"\"\"\"\"\"\"\"\"\"\"\"\"\"\"\"...</td>\n",
       "      <td>Opening Friday, June 5 2009, on view through S...</td>\n",
       "      <td>5000.0</td>\n",
       "      <td>lostles-at-tinys-giant</td>\n",
       "      <td>False</td>\n",
       "      <td>US</td>\n",
       "      <td>USD</td>\n",
       "      <td>1244264400</td>\n",
       "      <td>1244264422</td>\n",
       "      <td>1241415164</td>\n",
       "      <td>1241480901</td>\n",
       "      <td>0</td>\n",
       "    </tr>\n",
       "    <tr>\n",
       "      <th>kkst890976740</th>\n",
       "      <td>Choose Your Own Adventure - A Robot Painting S...</td>\n",
       "      <td>This project is for a Choose Your Own Adventur...</td>\n",
       "      <td>3500.0</td>\n",
       "      <td>choose-your-own-adventure-a-robot-painting-series</td>\n",
       "      <td>False</td>\n",
       "      <td>US</td>\n",
       "      <td>USD</td>\n",
       "      <td>1244946540</td>\n",
       "      <td>1244946632</td>\n",
       "      <td>1242268157</td>\n",
       "      <td>1242273460</td>\n",
       "      <td>0</td>\n",
       "    </tr>\n",
       "  </tbody>\n",
       "</table>\n",
       "</div>"
      ],
      "text/plain": [
       "                                                             name  \\\n",
       "project_id                                                          \n",
       "kkst1451568084                                drawing for dollars   \n",
       "kkst1474482071  Sponsor Dereck Blackburn (Lostwars) Artist in ...   \n",
       "kkst183622197                                       Mr. Squiggles   \n",
       "kkst597742710                      Help me write my second novel.   \n",
       "kkst1913131122             Support casting my sculpture in bronze   \n",
       "kkst1085176748                                       daily digest   \n",
       "kkst1468954715                          iGoozex - Free iPhone app   \n",
       "kkst194050612                              Drive A Faster Car 2.0   \n",
       "kkst708883590   \"\"\"\"\"\"\"\"\"\"\"\"\"\"\"\"\"\"\"\"\"\"\"\"\"\"\"\"\"\"\"\"\"\"\"\"\"\"\"\"\"\"\"\"\"\"...   \n",
       "kkst890976740   Choose Your Own Adventure - A Robot Painting S...   \n",
       "\n",
       "                                                             desc    goal  \\\n",
       "project_id                                                                  \n",
       "kkst1451568084  I like drawing pictures. and then i color them...    20.0   \n",
       "kkst1474482071  I, Dereck Blackburn will be taking upon an inc...   300.0   \n",
       "kkst183622197   So I saw darkpony's successfully funded drawin...    30.0   \n",
       "kkst597742710   Do your part to help out starving artists and ...   500.0   \n",
       "kkst1913131122  I'm nearing completion on a sculpture, current...  2000.0   \n",
       "kkst1085176748  I'm a fledgling videoblogger living in Brookly...   700.0   \n",
       "kkst1468954715  I am an independent iPhone developer that beli...   250.0   \n",
       "kkst194050612   Drive A Faster Car (http://www.driveafastercar...  1000.0   \n",
       "kkst708883590   Opening Friday, June 5 2009, on view through S...  5000.0   \n",
       "kkst890976740   This project is for a Choose Your Own Adventur...  3500.0   \n",
       "\n",
       "                                                         keywords  \\\n",
       "project_id                                                          \n",
       "kkst1451568084                                drawing-for-dollars   \n",
       "kkst1474482071  sponsor-dereck-blackburn-lostwars-artist-in-re...   \n",
       "kkst183622197                                        mr-squiggles   \n",
       "kkst597742710                       help-me-write-my-second-novel   \n",
       "kkst1913131122             support-casting-my-sculpture-in-bronze   \n",
       "kkst1085176748                                       daily-digest   \n",
       "kkst1468954715                            igoozex-free-iphone-app   \n",
       "kkst194050612                               drive-a-faster-car-20   \n",
       "kkst708883590                              lostles-at-tinys-giant   \n",
       "kkst890976740   choose-your-own-adventure-a-robot-painting-series   \n",
       "\n",
       "                disable_communication country currency    deadline  \\\n",
       "project_id                                                           \n",
       "kkst1451568084                  False      US      USD  1241333999   \n",
       "kkst1474482071                  False      US      USD  1242429000   \n",
       "kkst183622197                   False      US      USD  1243027560   \n",
       "kkst597742710                   False      US      USD  1243555740   \n",
       "kkst1913131122                  False      US      USD  1243769880   \n",
       "kkst1085176748                  False      US      USD  1243815600   \n",
       "kkst1468954715                  False      US      USD  1243872000   \n",
       "kkst194050612                   False      US      USD  1244088000   \n",
       "kkst708883590                   False      US      USD  1244264400   \n",
       "kkst890976740                   False      US      USD  1244946540   \n",
       "\n",
       "                state_changed_at  created_at  launched_at  final_status  \n",
       "project_id                                                               \n",
       "kkst1451568084        1241334017  1240600507   1240602723             1  \n",
       "kkst1474482071        1242432018  1240960224   1240975592             0  \n",
       "kkst183622197         1243027818  1242163613   1242164398             0  \n",
       "kkst597742710         1243556121  1240963795   1240966730             1  \n",
       "kkst1913131122        1243770317  1241177914   1241180541             0  \n",
       "kkst1085176748        1243816219  1241050799   1241464468             0  \n",
       "kkst1468954715        1243872028  1241725172   1241736308             0  \n",
       "kkst194050612         1244088022  1241460541   1241470291             1  \n",
       "kkst708883590         1244264422  1241415164   1241480901             0  \n",
       "kkst890976740         1244946632  1242268157   1242273460             0  "
      ]
     },
     "execution_count": 4,
     "metadata": {},
     "output_type": "execute_result"
    }
   ],
   "source": [
    "# read fist 10 entries of train set to get some idea about data.\n",
    "train.drop('backers_count',axis=1,inplace=True)\n",
    "train.head(10)"
   ]
  },
  {
   "cell_type": "code",
   "execution_count": 5,
   "metadata": {},
   "outputs": [
    {
     "name": "stdout",
     "output_type": "stream",
     "text": [
      "<class 'pandas.core.frame.DataFrame'>\n",
      "Index: 108129 entries, kkst1451568084 to kkst169301870\n",
      "Data columns (total 12 columns):\n",
      "name                     108128 non-null object\n",
      "desc                     108121 non-null object\n",
      "goal                     108129 non-null float64\n",
      "keywords                 108129 non-null object\n",
      "disable_communication    108129 non-null bool\n",
      "country                  108129 non-null object\n",
      "currency                 108129 non-null object\n",
      "deadline                 108129 non-null int64\n",
      "state_changed_at         108129 non-null int64\n",
      "created_at               108129 non-null int64\n",
      "launched_at              108129 non-null int64\n",
      "final_status             108129 non-null int64\n",
      "dtypes: bool(1), float64(1), int64(5), object(5)\n",
      "memory usage: 10.0+ MB\n"
     ]
    }
   ],
   "source": [
    "train.info()\n",
    "#the data types for all columns are also correct"
   ]
  },
  {
   "cell_type": "code",
   "execution_count": 8,
   "metadata": {},
   "outputs": [
    {
     "name": "stdout",
     "output_type": "stream",
     "text": [
      "name                     108121\n",
      "desc                     108121\n",
      "goal                     108121\n",
      "keywords                 108121\n",
      "disable_communication    108121\n",
      "country                  108121\n",
      "currency                 108121\n",
      "deadline                 108121\n",
      "state_changed_at         108121\n",
      "created_at               108121\n",
      "launched_at              108121\n",
      "final_status             108121\n",
      "dtype: int64\n",
      "\n",
      "After removing rows with missing values\n",
      "name                     108121\n",
      "desc                     108121\n",
      "goal                     108121\n",
      "keywords                 108121\n",
      "disable_communication    108121\n",
      "country                  108121\n",
      "currency                 108121\n",
      "deadline                 108121\n",
      "state_changed_at         108121\n",
      "created_at               108121\n",
      "launched_at              108121\n",
      "final_status             108121\n",
      "dtype: int64\n"
     ]
    }
   ],
   "source": [
    "#after looking at NA counts less than 10 entries have missing values so dropped them\n",
    "print(train.count())\n",
    "train=train.dropna()\n",
    "print (\"\\nAfter removing rows with missing values:-\")\n",
    "print(train.count())"
   ]
  },
  {
   "cell_type": "code",
   "execution_count": null,
   "metadata": {
    "collapsed": true
   },
   "outputs": [],
   "source": []
  },
  {
   "cell_type": "code",
   "execution_count": null,
   "metadata": {
    "collapsed": true
   },
   "outputs": [],
   "source": []
  },
  {
   "cell_type": "code",
   "execution_count": null,
   "metadata": {
    "collapsed": true
   },
   "outputs": [],
   "source": []
  }
 ],
 "metadata": {
  "kernelspec": {
   "display_name": "Python 3",
   "language": "python",
   "name": "python3"
  },
  "language_info": {
   "codemirror_mode": {
    "name": "ipython",
    "version": 3
   },
   "file_extension": ".py",
   "mimetype": "text/x-python",
   "name": "python",
   "nbconvert_exporter": "python",
   "pygments_lexer": "ipython3",
   "version": "3.6.1"
  }
 },
 "nbformat": 4,
 "nbformat_minor": 2
}
